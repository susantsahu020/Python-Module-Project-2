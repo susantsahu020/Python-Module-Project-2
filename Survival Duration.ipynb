{
 "cells": [
  {
   "cell_type": "code",
   "execution_count": 38,
   "id": "f5f5e5a2",
   "metadata": {},
   "outputs": [
    {
     "name": "stdout",
     "output_type": "stream",
     "text": [
      "What's your age? 10\n",
      "Please choose time unit: Months, Weeks, Days, Hours, Minutes, Seconds. \n",
      "Note: You can write the first letter or the full name of the time unit. m\n",
      "You lived for 120 Months\n"
     ]
    }
   ],
   "source": [
    "def survivalDuration():\n",
    "    age = float(input(\"What's your age? \"))\n",
    "    if age >= 0:\n",
    "        unit = input('''Please choose time unit: Months, Weeks, Days, Hours, Minutes, Seconds. \n",
    "Note: You can write the first letter or the full name of the time unit. ''')\n",
    "        if(unit == \"months\" or unit == \"m\"):\n",
    "            duration = int(age * 12)\n",
    "            return f\"You lived for {duration} Months\"\n",
    "            \n",
    "        elif(unit == \"weeks\" or unit == \"w\"):\n",
    "            duration = int(age * 52)\n",
    "            return f\"You lived for {duration} Weeks\"\n",
    "            \n",
    "        elif(unit == \"days\" or unit == \"d\"):\n",
    "            duration = int(age * 365)\n",
    "            return f\"You lived for {duration} Days\"\n",
    "            \n",
    "        elif(unit == \"hours\" or unit == \"h\"):\n",
    "            duration = int(age * 8760)\n",
    "            return f\"You lived for {duration} Hours\"\n",
    "            \n",
    "        elif(unit == \"minutes\" or unit == \"m\"):\n",
    "            duration = int(age * 525600)\n",
    "            return f\"You lived for {duration} Minutes\"\n",
    "            \n",
    "        elif(unit == \"seconds\" or unit == \"s\"):\n",
    "            duration = int(age * 31536000)\n",
    "            return f\"You lived for {duration} Seconds\"\n",
    "        \n",
    "        else:\n",
    "            return \"Invalid time unit entered.\"\n",
    "            \n",
    "    else:\n",
    "        return \"Age cannot be less than 0.\"\n",
    "          \n",
    "\n",
    "duration_ = survivalDuration()\n",
    "print(duration_)"
   ]
  }
 ],
 "metadata": {
  "kernelspec": {
   "display_name": "Python 3 (ipykernel)",
   "language": "python",
   "name": "python3"
  },
  "language_info": {
   "codemirror_mode": {
    "name": "ipython",
    "version": 3
   },
   "file_extension": ".py",
   "mimetype": "text/x-python",
   "name": "python",
   "nbconvert_exporter": "python",
   "pygments_lexer": "ipython3",
   "version": "3.11.5"
  }
 },
 "nbformat": 4,
 "nbformat_minor": 5
}
